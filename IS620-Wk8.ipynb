{
 "cells": [
  {
   "cell_type": "code",
   "execution_count": 71,
   "metadata": {
    "collapsed": true
   },
   "outputs": [],
   "source": [
    "from collections import Counter\n",
    "import numpy as np\n",
    "import scipy.stats as ss"
   ]
  },
  {
   "cell_type": "code",
   "execution_count": 4,
   "metadata": {
    "collapsed": false
   },
   "outputs": [],
   "source": [
    "import nltk as nltk\n",
    "from nltk.book import text6"
   ]
  },
  {
   "cell_type": "markdown",
   "metadata": {},
   "source": [
    "##So, we will be using the following text for our analysis"
   ]
  },
  {
   "cell_type": "code",
   "execution_count": 37,
   "metadata": {
    "collapsed": false
   },
   "outputs": [
    {
     "data": {
      "text/plain": [
       "<Text: Monty Python and the Holy Grail>"
      ]
     },
     "execution_count": 37,
     "metadata": {},
     "output_type": "execute_result"
    }
   ],
   "source": [
    "text6"
   ]
  },
  {
   "cell_type": "code",
   "execution_count": 57,
   "metadata": {
    "collapsed": false
   },
   "outputs": [],
   "source": [
    "words = nltk.pos_tag(text6.tokens)"
   ]
  },
  {
   "cell_type": "markdown",
   "metadata": {},
   "source": [
    "###We will define unique words as being unique and having the same tag"
   ]
  },
  {
   "cell_type": "markdown",
   "metadata": {},
   "source": [
    "######Total number of words in text:"
   ]
  },
  {
   "cell_type": "code",
   "execution_count": 58,
   "metadata": {
    "collapsed": false
   },
   "outputs": [
    {
     "data": {
      "text/plain": [
       "16967"
      ]
     },
     "execution_count": 58,
     "metadata": {},
     "output_type": "execute_result"
    }
   ],
   "source": [
    "len(words)"
   ]
  },
  {
   "cell_type": "markdown",
   "metadata": {},
   "source": [
    "######Total number of unique words in text:"
   ]
  },
  {
   "cell_type": "code",
   "execution_count": 59,
   "metadata": {
    "collapsed": false
   },
   "outputs": [
    {
     "data": {
      "text/plain": [
       "2498"
      ]
     },
     "execution_count": 59,
     "metadata": {},
     "output_type": "execute_result"
    }
   ],
   "source": [
    "len(set(words))"
   ]
  },
  {
   "cell_type": "code",
   "execution_count": 60,
   "metadata": {
    "collapsed": false
   },
   "outputs": [],
   "source": [
    "half = 16976/2"
   ]
  },
  {
   "cell_type": "code",
   "execution_count": 61,
   "metadata": {
    "collapsed": false
   },
   "outputs": [
    {
     "data": {
      "text/plain": [
       "45"
      ]
     },
     "execution_count": 61,
     "metadata": {},
     "output_type": "execute_result"
    }
   ],
   "source": [
    "n=0\n",
    "m=0\n",
    "for c in Counter(words).most_common():\n",
    "    n+=1\n",
    "    m+=c[1]\n",
    "    if m > half:\n",
    "        break\n",
    "n"
   ]
  },
  {
   "cell_type": "markdown",
   "metadata": {},
   "source": [
    "#####So 45 words represent half of the words in the text"
   ]
  },
  {
   "cell_type": "code",
   "execution_count": 62,
   "metadata": {
    "collapsed": false
   },
   "outputs": [
    {
     "data": {
      "text/plain": [
       "[((u':', ':'), 1197),\n",
       " ((u'.', '.'), 816),\n",
       " ((u'!', '.'), 801),\n",
       " ((u',', ','), 731),\n",
       " ((u\"'\", \"''\"), 332),\n",
       " ((u'[', ':'), 299),\n",
       " ((u'the', 'DT'), 299),\n",
       " ((u']', ':'), 263),\n",
       " ((u'I', 'PRP'), 255),\n",
       " ((u'ARTHUR', 'NNP'), 225),\n",
       " ((u'?', '.'), 207),\n",
       " ((u'you', 'PRP'), 204),\n",
       " ((u'a', 'DT'), 188),\n",
       " ((u'of', 'IN'), 158),\n",
       " ((u'--', ':'), 148),\n",
       " ((u'to', 'TO'), 144),\n",
       " ((u'and', 'CC'), 135),\n",
       " ((u'#', '#'), 127),\n",
       " ((u'...', ':'), 118),\n",
       " ((u'Oh', 'NNP'), 110),\n",
       " ((u'it', 'PRP'), 107),\n",
       " ((u'is', 'VBZ'), 106),\n",
       " ((u'-', ':'), 88),\n",
       " ((u's', 'NNS'), 86),\n",
       " ((u'in', 'IN'), 86),\n",
       " ((u't', 'NN'), 77),\n",
       " ((u'1', 'CD'), 76),\n",
       " ((u'No', 'DT'), 76),\n",
       " ((u\"'\", 'POS'), 76),\n",
       " ((u'your', 'PRP$'), 75),\n",
       " ((u'not', 'RB'), 70),\n",
       " ((u'GALAHAD', 'NNP'), 69),\n",
       " ((u'What', 'WP'), 65),\n",
       " ((u'KNIGHT', 'NNP'), 65),\n",
       " ((u'FATHER', 'NNP'), 63),\n",
       " ((u'we', 'PRP'), 61),\n",
       " ((u'BEDEVERE', 'NNP'), 61),\n",
       " ((u'We', 'PRP'), 60),\n",
       " ((u'You', 'PRP'), 60),\n",
       " ((u'that', 'IN'), 60),\n",
       " ((u'this', 'DT'), 59),\n",
       " ((u's', 'VBZ'), 55),\n",
       " ((u'Well', 'NNP'), 54),\n",
       " ((u'LAUNCELOT', 'NNP'), 53),\n",
       " ((u'GUARD', 'NNP'), 53)]"
      ]
     },
     "execution_count": 62,
     "metadata": {},
     "output_type": "execute_result"
    }
   ],
   "source": [
    "Counter(words).most_common(45)"
   ]
  },
  {
   "cell_type": "markdown",
   "metadata": {},
   "source": [
    "#####We can use FreqDist for the next part"
   ]
  },
  {
   "cell_type": "code",
   "execution_count": 66,
   "metadata": {
    "collapsed": false
   },
   "outputs": [
    {
     "data": {
      "text/plain": [
       "[(u':', 1197),\n",
       " (u'.', 816),\n",
       " (u'!', 801),\n",
       " (u',', 731),\n",
       " (u\"'\", 421),\n",
       " (u'[', 319),\n",
       " (u']', 312),\n",
       " (u'the', 299),\n",
       " (u'I', 255),\n",
       " (u'ARTHUR', 225),\n",
       " (u'?', 207),\n",
       " (u'you', 204),\n",
       " (u'a', 188),\n",
       " (u'of', 158),\n",
       " (u'--', 148),\n",
       " (u'to', 144),\n",
       " (u's', 141),\n",
       " (u'and', 135),\n",
       " (u'#', 127),\n",
       " (u'...', 118),\n",
       " (u'Oh', 110),\n",
       " (u'it', 107),\n",
       " (u'is', 106),\n",
       " (u'-', 88),\n",
       " (u'in', 86),\n",
       " (u'that', 84),\n",
       " (u't', 77),\n",
       " (u'LAUNCELOT', 76),\n",
       " (u'1', 76),\n",
       " (u'No', 76),\n",
       " (u'your', 75),\n",
       " (u'not', 70),\n",
       " (u'GALAHAD', 69),\n",
       " (u'KNIGHT', 68),\n",
       " (u'What', 65),\n",
       " (u'FATHER', 63),\n",
       " (u'we', 62),\n",
       " (u'You', 61),\n",
       " (u'BEDEVERE', 61),\n",
       " (u'We', 60),\n",
       " (u'this', 59),\n",
       " (u'no', 55),\n",
       " (u'HEAD', 54),\n",
       " (u'Well', 54),\n",
       " (u'GUARD', 53),\n",
       " (u'have', 53),\n",
       " (u'Sir', 52),\n",
       " (u'are', 52),\n",
       " (u'A', 50),\n",
       " (u'And', 50),\n",
       " (u'on', 47),\n",
       " (u'Ni', 47),\n",
       " (u'VILLAGER', 47),\n",
       " (u'me', 46),\n",
       " (u'He', 46),\n",
       " (u'boom', 45),\n",
       " (u'be', 43),\n",
       " (u'he', 43),\n",
       " (u'2', 42),\n",
       " (u'Yes', 42),\n",
       " (u'ha', 42),\n",
       " (u're', 41),\n",
       " (u'her', 40),\n",
       " (u'ROBIN', 39),\n",
       " (u'clop', 39),\n",
       " (u'my', 38),\n",
       " (u'away', 38),\n",
       " (u'with', 38),\n",
       " (u'witch', 37),\n",
       " (u'KNIGHTS', 37),\n",
       " (u'Arthur', 36),\n",
       " (u'up', 36),\n",
       " (u'It', 35),\n",
       " (u'here', 34),\n",
       " (u'm', 34),\n",
       " (u'do', 34),\n",
       " (u'Grail', 34),\n",
       " (u'him', 34),\n",
       " (u'for', 33),\n",
       " (u'out', 33),\n",
       " (u'one', 32),\n",
       " (u'Burn', 32),\n",
       " (u'can', 32),\n",
       " (u'The', 32),\n",
       " (u'us', 32),\n",
       " (u'BLACK', 32),\n",
       " (u'but', 32),\n",
       " (u'singing', 31),\n",
       " (u'all', 30),\n",
       " (u'mumble', 30),\n",
       " (u'TIM', 30),\n",
       " (u'music', 29),\n",
       " (u'FRENCH', 29),\n",
       " (u'squeak', 29),\n",
       " (u'Right', 27),\n",
       " (u'at', 27),\n",
       " (u'got', 27),\n",
       " (u'what', 27),\n",
       " (u'King', 27),\n",
       " (u'HERBERT', 26),\n",
       " (u'don', 26),\n",
       " (u'Hello', 26),\n",
       " (u'Come', 26),\n",
       " (u'uh', 26),\n",
       " (u'Camelot', 26),\n",
       " (u'just', 25),\n",
       " (u'Who', 25),\n",
       " (u'there', 25),\n",
       " (u'Launcelot', 25),\n",
       " (u'Holy', 24),\n",
       " (u'if', 24),\n",
       " (u'was', 24),\n",
       " (u'tell', 24),\n",
       " (u'Look', 24),\n",
       " (u'SOLDIER', 24),\n",
       " (u'SCENE', 24),\n",
       " (u'must', 23),\n",
       " (u'That', 22),\n",
       " (u'dead', 22),\n",
       " (u'going', 22),\n",
       " (u'am', 22),\n",
       " (u'his', 22),\n",
       " (u'go', 22),\n",
       " (u'will', 22),\n",
       " (u'shall', 21),\n",
       " (u'Run', 21),\n",
       " (u'right', 21),\n",
       " (u'DENNIS', 21),\n",
       " (u'who', 21),\n",
       " (u've', 21),\n",
       " (u'so', 20),\n",
       " (u'get', 20),\n",
       " (u'from', 20),\n",
       " (u\"'.\", 19),\n",
       " (u'think', 19),\n",
       " (u'll', 19),\n",
       " (u'Robin', 19),\n",
       " (u'they', 18),\n",
       " (u'come', 18),\n",
       " (u'castle', 18),\n",
       " (u'Knights', 18),\n",
       " (u'off', 18),\n",
       " (u'OF', 17),\n",
       " (u'Ha', 17),\n",
       " (u'brave', 17),\n",
       " (u'name', 17),\n",
       " (u'saw', 17),\n",
       " (u'clang', 17),\n",
       " (u'very', 17),\n",
       " (u'CROWD', 17),\n",
       " (u'NARRATOR', 17),\n",
       " (u'see', 17),\n",
       " (u'could', 17),\n",
       " (u'GUESTS', 17),\n",
       " (u'know', 17),\n",
       " (u'Stop', 16),\n",
       " (u'were', 16),\n",
       " (u'CARTOON', 16),\n",
       " (u'BRIDGEKEEPER', 16),\n",
       " (u'sir', 16),\n",
       " (u'Uh', 16),\n",
       " (u'then', 15),\n",
       " (u'DINGO', 15),\n",
       " (u'There', 15),\n",
       " (u'But', 15),\n",
       " (u'clap', 15),\n",
       " (u'into', 15),\n",
       " (u'NI', 15),\n",
       " (u'Shh', 15),\n",
       " (u'as', 15),\n",
       " (u'like', 15),\n",
       " (u'by', 14),\n",
       " (u'Bring', 14),\n",
       " (u'ZOOT', 14),\n",
       " (u'say', 14),\n",
       " (u'So', 14),\n",
       " (u'questions', 14),\n",
       " (u'stops', 14),\n",
       " (u'MINSTREL', 13),\n",
       " (u'them', 13),\n",
       " (u'shrubbery', 13),\n",
       " (u'had', 13),\n",
       " (u'want', 13),\n",
       " (u'CART', 13),\n",
       " (u'hee', 13),\n",
       " (u'MASTER', 13),\n",
       " (u'CUSTOMER', 13),\n",
       " (u'more', 13),\n",
       " (u'quest', 13),\n",
       " (u'an', 13),\n",
       " (u'about', 13),\n",
       " (u'Three', 12),\n",
       " (u'All', 12),\n",
       " (u'make', 12),\n",
       " (u'CHARACTER', 12),\n",
       " (u'when', 12),\n",
       " (u'?!', 12),\n",
       " (u'man', 12),\n",
       " (u'now', 12),\n",
       " (u'CONCORDE', 12)]"
      ]
     },
     "execution_count": 66,
     "metadata": {},
     "output_type": "execute_result"
    }
   ],
   "source": [
    "freqD = nltk.FreqDist(word for (word, tag) in words)\n",
    "freqD.most_common(200)"
   ]
  },
  {
   "cell_type": "code",
   "execution_count": 69,
   "metadata": {
    "collapsed": false
   },
   "outputs": [
    {
     "data": {
      "image/png": "[encoded data removed]",
      "text/plain": [
       "<matplotlib.figure.Figure at 0x2671cdd8>"
      ]
     },
     "metadata": {},
     "output_type": "display_data"
    }
   ],
   "source": [
    "freqD.plot(200,cumulative=False)"
   ]
  },
  {
   "cell_type": "code",
   "execution_count": 70,
   "metadata": {
    "collapsed": false
   },
   "outputs": [
    {
     "data": {
      "image/png": "[encoded data removed]",
      "text/plain": [
       "<matplotlib.figure.Figure at 0x28d23898>"
      ]
     },
     "metadata": {},
     "output_type": "display_data"
    }
   ],
   "source": [
    "freqD.plot(200,cumulative=True)"
   ]
  },
  {
   "cell_type": "markdown",
   "metadata": {},
   "source": [
    "###We can confirm Zipf's law by seeing if the rank correlates to the log of the count:"
   ]
  },
  {
   "cell_type": "code",
   "execution_count": 77,
   "metadata": {
    "collapsed": true
   },
   "outputs": [],
   "source": [
    "counts = [c for (w,c) in freqD.most_common()]"
   ]
  },
  {
   "cell_type": "code",
   "execution_count": 78,
   "metadata": {
    "collapsed": false
   },
   "outputs": [
    {
     "data": {
      "text/plain": [
       "array([[ 1.       ,  0.9051408],\n",
       "       [ 0.9051408,  1.       ]])"
      ]
     },
     "execution_count": 78,
     "metadata": {},
     "output_type": "execute_result"
    }
   ],
   "source": [
    "np.corrcoef(ss.rankdata(counts),[np.log(i) for i in counts])"
   ]
  }
 ],
 "metadata": {
  "kernelspec": {
   "display_name": "Python 2",
   "language": "python",
   "name": "python2"
  },
  "language_info": {
   "codemirror_mode": {
    "name": "ipython",
    "version": 2
   },
   "file_extension": ".py",
   "mimetype": "text/x-python",
   "name": "python",
   "nbconvert_exporter": "python",
   "pygments_lexer": "ipython2",
   "version": "2.7.5"
  }
 },
 "nbformat": 4,
 "nbformat_minor": 0
}
